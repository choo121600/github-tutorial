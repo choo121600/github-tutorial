{
  "nbformat": 4,
  "nbformat_minor": 0,
  "metadata": {
    "colab": {
      "provenance": []
    },
    "kernelspec": {
      "name": "python3",
      "display_name": "Python 3"
    },
    "language_info": {
      "name": "python"
    }
  },
  "cells": [
    {
      "cell_type": "code",
      "execution_count": 1,
      "metadata": {
        "colab": {
          "base_uri": "https://localhost:8080/"
        },
        "id": "diVKVTZNVFIo",
        "outputId": "1a567a67-a159-4622-83ee-66eb5dfc8ba6"
      },
      "outputs": [
        {
          "output_type": "stream",
          "name": "stdout",
          "text": [
            "대전 가야하는데 비오네\n"
          ]
        }
      ],
      "source": [
        "print(\"대전 가야하는데 비오네\")"
      ]
    },
    {
      "cell_type": "code",
      "source": [],
      "metadata": {
        "id": "MkXvx0jSVNTm"
      },
      "execution_count": null,
      "outputs": []
    }
  ]
}